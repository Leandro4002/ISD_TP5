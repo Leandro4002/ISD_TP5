{
 "cells": [
  {
   "cell_type": "code",
   "execution_count": 1,
   "metadata": {},
   "outputs": [],
   "source": [
    "import pandas as pd\n",
    "import numpy as np\n",
    "import seaborn as sns\n",
    "import matplotlib.pyplot as plt\n",
    "import math"
   ]
  },
  {
   "cell_type": "markdown",
   "metadata": {
    "collapsed": false
   },
   "source": [
    "# 1. Régression linéaire simple"
   ]
  },
  {
   "cell_type": "markdown",
   "metadata": {
    "collapsed": false,
    "pycharm": {
     "name": "#%% md\n"
    }
   },
   "source": [
    "### 1) Installez la bibliothèque sklearn"
   ]
  },
  {
   "cell_type": "code",
   "execution_count": 2,
   "metadata": {
    "collapsed": false,
    "pycharm": {
     "name": "#%%\n"
    }
   },
   "outputs": [],
   "source": [
    "from sklearn.datasets import load_boston"
   ]
  },
  {
   "cell_type": "markdown",
   "metadata": {
    "collapsed": false
   },
   "source": [
    "### 2) Créez un notebook pour lire la base de données «Boston housing dataset » et générez un dataframe."
   ]
  },
  {
   "cell_type": "code",
   "execution_count": 3,
   "metadata": {},
   "outputs": [
    {
     "name": "stderr",
     "output_type": "stream",
     "text": [
      "/home/leandro/miniconda3/envs/isd/lib/python3.9/site-packages/sklearn/utils/deprecation.py:87: FutureWarning: Function load_boston is deprecated; `load_boston` is deprecated in 1.0 and will be removed in 1.2.\n",
      "\n",
      "    The Boston housing prices dataset has an ethical problem. You can refer to\n",
      "    the documentation of this function for further details.\n",
      "\n",
      "    The scikit-learn maintainers therefore strongly discourage the use of this\n",
      "    dataset unless the purpose of the code is to study and educate about\n",
      "    ethical issues in data science and machine learning.\n",
      "\n",
      "    In this special case, you can fetch the dataset from the original\n",
      "    source::\n",
      "\n",
      "        import pandas as pd\n",
      "        import numpy as np\n",
      "\n",
      "        data_url = \"http://lib.stat.cmu.edu/datasets/boston\"\n",
      "        raw_df = pd.read_csv(data_url, sep=\"\\s+\", skiprows=22, header=None)\n",
      "        data = np.hstack([raw_df.values[::2, :], raw_df.values[1::2, :2]])\n",
      "        target = raw_df.values[1::2, 2]\n",
      "\n",
      "    Alternative datasets include the California housing dataset (i.e.\n",
      "    :func:`~sklearn.datasets.fetch_california_housing`) and the Ames housing\n",
      "    dataset. You can load the datasets as follows::\n",
      "\n",
      "        from sklearn.datasets import fetch_california_housing\n",
      "        housing = fetch_california_housing()\n",
      "\n",
      "    for the California housing dataset and::\n",
      "\n",
      "        from sklearn.datasets import fetch_openml\n",
      "        housing = fetch_openml(name=\"house_prices\", as_frame=True)\n",
      "\n",
      "    for the Ames housing dataset.\n",
      "  warnings.warn(msg, category=FutureWarning)\n"
     ]
    },
    {
     "data": {
      "text/html": [
       "<div>\n",
       "<style scoped>\n",
       "    .dataframe tbody tr th:only-of-type {\n",
       "        vertical-align: middle;\n",
       "    }\n",
       "\n",
       "    .dataframe tbody tr th {\n",
       "        vertical-align: top;\n",
       "    }\n",
       "\n",
       "    .dataframe thead th {\n",
       "        text-align: right;\n",
       "    }\n",
       "</style>\n",
       "<table border=\"1\" class=\"dataframe\">\n",
       "  <thead>\n",
       "    <tr style=\"text-align: right;\">\n",
       "      <th></th>\n",
       "      <th>CRIM</th>\n",
       "      <th>ZN</th>\n",
       "      <th>INDUS</th>\n",
       "      <th>CHAS</th>\n",
       "      <th>NOX</th>\n",
       "      <th>RM</th>\n",
       "      <th>AGE</th>\n",
       "      <th>DIS</th>\n",
       "      <th>RAD</th>\n",
       "      <th>TAX</th>\n",
       "      <th>PTRATIO</th>\n",
       "      <th>B</th>\n",
       "      <th>LSTAT</th>\n",
       "      <th>MEDV</th>\n",
       "    </tr>\n",
       "  </thead>\n",
       "  <tbody>\n",
       "    <tr>\n",
       "      <th>0</th>\n",
       "      <td>0.00632</td>\n",
       "      <td>18.0</td>\n",
       "      <td>2.31</td>\n",
       "      <td>0.0</td>\n",
       "      <td>0.538</td>\n",
       "      <td>6.575</td>\n",
       "      <td>65.2</td>\n",
       "      <td>4.0900</td>\n",
       "      <td>1.0</td>\n",
       "      <td>296.0</td>\n",
       "      <td>15.3</td>\n",
       "      <td>396.90</td>\n",
       "      <td>4.98</td>\n",
       "      <td>24.0</td>\n",
       "    </tr>\n",
       "    <tr>\n",
       "      <th>1</th>\n",
       "      <td>0.02731</td>\n",
       "      <td>0.0</td>\n",
       "      <td>7.07</td>\n",
       "      <td>0.0</td>\n",
       "      <td>0.469</td>\n",
       "      <td>6.421</td>\n",
       "      <td>78.9</td>\n",
       "      <td>4.9671</td>\n",
       "      <td>2.0</td>\n",
       "      <td>242.0</td>\n",
       "      <td>17.8</td>\n",
       "      <td>396.90</td>\n",
       "      <td>9.14</td>\n",
       "      <td>21.6</td>\n",
       "    </tr>\n",
       "    <tr>\n",
       "      <th>2</th>\n",
       "      <td>0.02729</td>\n",
       "      <td>0.0</td>\n",
       "      <td>7.07</td>\n",
       "      <td>0.0</td>\n",
       "      <td>0.469</td>\n",
       "      <td>7.185</td>\n",
       "      <td>61.1</td>\n",
       "      <td>4.9671</td>\n",
       "      <td>2.0</td>\n",
       "      <td>242.0</td>\n",
       "      <td>17.8</td>\n",
       "      <td>392.83</td>\n",
       "      <td>4.03</td>\n",
       "      <td>34.7</td>\n",
       "    </tr>\n",
       "    <tr>\n",
       "      <th>3</th>\n",
       "      <td>0.03237</td>\n",
       "      <td>0.0</td>\n",
       "      <td>2.18</td>\n",
       "      <td>0.0</td>\n",
       "      <td>0.458</td>\n",
       "      <td>6.998</td>\n",
       "      <td>45.8</td>\n",
       "      <td>6.0622</td>\n",
       "      <td>3.0</td>\n",
       "      <td>222.0</td>\n",
       "      <td>18.7</td>\n",
       "      <td>394.63</td>\n",
       "      <td>2.94</td>\n",
       "      <td>33.4</td>\n",
       "    </tr>\n",
       "    <tr>\n",
       "      <th>4</th>\n",
       "      <td>0.06905</td>\n",
       "      <td>0.0</td>\n",
       "      <td>2.18</td>\n",
       "      <td>0.0</td>\n",
       "      <td>0.458</td>\n",
       "      <td>7.147</td>\n",
       "      <td>54.2</td>\n",
       "      <td>6.0622</td>\n",
       "      <td>3.0</td>\n",
       "      <td>222.0</td>\n",
       "      <td>18.7</td>\n",
       "      <td>396.90</td>\n",
       "      <td>5.33</td>\n",
       "      <td>36.2</td>\n",
       "    </tr>\n",
       "    <tr>\n",
       "      <th>...</th>\n",
       "      <td>...</td>\n",
       "      <td>...</td>\n",
       "      <td>...</td>\n",
       "      <td>...</td>\n",
       "      <td>...</td>\n",
       "      <td>...</td>\n",
       "      <td>...</td>\n",
       "      <td>...</td>\n",
       "      <td>...</td>\n",
       "      <td>...</td>\n",
       "      <td>...</td>\n",
       "      <td>...</td>\n",
       "      <td>...</td>\n",
       "      <td>...</td>\n",
       "    </tr>\n",
       "    <tr>\n",
       "      <th>501</th>\n",
       "      <td>0.06263</td>\n",
       "      <td>0.0</td>\n",
       "      <td>11.93</td>\n",
       "      <td>0.0</td>\n",
       "      <td>0.573</td>\n",
       "      <td>6.593</td>\n",
       "      <td>69.1</td>\n",
       "      <td>2.4786</td>\n",
       "      <td>1.0</td>\n",
       "      <td>273.0</td>\n",
       "      <td>21.0</td>\n",
       "      <td>391.99</td>\n",
       "      <td>9.67</td>\n",
       "      <td>22.4</td>\n",
       "    </tr>\n",
       "    <tr>\n",
       "      <th>502</th>\n",
       "      <td>0.04527</td>\n",
       "      <td>0.0</td>\n",
       "      <td>11.93</td>\n",
       "      <td>0.0</td>\n",
       "      <td>0.573</td>\n",
       "      <td>6.120</td>\n",
       "      <td>76.7</td>\n",
       "      <td>2.2875</td>\n",
       "      <td>1.0</td>\n",
       "      <td>273.0</td>\n",
       "      <td>21.0</td>\n",
       "      <td>396.90</td>\n",
       "      <td>9.08</td>\n",
       "      <td>20.6</td>\n",
       "    </tr>\n",
       "    <tr>\n",
       "      <th>503</th>\n",
       "      <td>0.06076</td>\n",
       "      <td>0.0</td>\n",
       "      <td>11.93</td>\n",
       "      <td>0.0</td>\n",
       "      <td>0.573</td>\n",
       "      <td>6.976</td>\n",
       "      <td>91.0</td>\n",
       "      <td>2.1675</td>\n",
       "      <td>1.0</td>\n",
       "      <td>273.0</td>\n",
       "      <td>21.0</td>\n",
       "      <td>396.90</td>\n",
       "      <td>5.64</td>\n",
       "      <td>23.9</td>\n",
       "    </tr>\n",
       "    <tr>\n",
       "      <th>504</th>\n",
       "      <td>0.10959</td>\n",
       "      <td>0.0</td>\n",
       "      <td>11.93</td>\n",
       "      <td>0.0</td>\n",
       "      <td>0.573</td>\n",
       "      <td>6.794</td>\n",
       "      <td>89.3</td>\n",
       "      <td>2.3889</td>\n",
       "      <td>1.0</td>\n",
       "      <td>273.0</td>\n",
       "      <td>21.0</td>\n",
       "      <td>393.45</td>\n",
       "      <td>6.48</td>\n",
       "      <td>22.0</td>\n",
       "    </tr>\n",
       "    <tr>\n",
       "      <th>505</th>\n",
       "      <td>0.04741</td>\n",
       "      <td>0.0</td>\n",
       "      <td>11.93</td>\n",
       "      <td>0.0</td>\n",
       "      <td>0.573</td>\n",
       "      <td>6.030</td>\n",
       "      <td>80.8</td>\n",
       "      <td>2.5050</td>\n",
       "      <td>1.0</td>\n",
       "      <td>273.0</td>\n",
       "      <td>21.0</td>\n",
       "      <td>396.90</td>\n",
       "      <td>7.88</td>\n",
       "      <td>11.9</td>\n",
       "    </tr>\n",
       "  </tbody>\n",
       "</table>\n",
       "<p>506 rows × 14 columns</p>\n",
       "</div>"
      ],
      "text/plain": [
       "        CRIM    ZN  INDUS  CHAS    NOX     RM   AGE     DIS  RAD    TAX  \\\n",
       "0    0.00632  18.0   2.31   0.0  0.538  6.575  65.2  4.0900  1.0  296.0   \n",
       "1    0.02731   0.0   7.07   0.0  0.469  6.421  78.9  4.9671  2.0  242.0   \n",
       "2    0.02729   0.0   7.07   0.0  0.469  7.185  61.1  4.9671  2.0  242.0   \n",
       "3    0.03237   0.0   2.18   0.0  0.458  6.998  45.8  6.0622  3.0  222.0   \n",
       "4    0.06905   0.0   2.18   0.0  0.458  7.147  54.2  6.0622  3.0  222.0   \n",
       "..       ...   ...    ...   ...    ...    ...   ...     ...  ...    ...   \n",
       "501  0.06263   0.0  11.93   0.0  0.573  6.593  69.1  2.4786  1.0  273.0   \n",
       "502  0.04527   0.0  11.93   0.0  0.573  6.120  76.7  2.2875  1.0  273.0   \n",
       "503  0.06076   0.0  11.93   0.0  0.573  6.976  91.0  2.1675  1.0  273.0   \n",
       "504  0.10959   0.0  11.93   0.0  0.573  6.794  89.3  2.3889  1.0  273.0   \n",
       "505  0.04741   0.0  11.93   0.0  0.573  6.030  80.8  2.5050  1.0  273.0   \n",
       "\n",
       "     PTRATIO       B  LSTAT  MEDV  \n",
       "0       15.3  396.90   4.98  24.0  \n",
       "1       17.8  396.90   9.14  21.6  \n",
       "2       17.8  392.83   4.03  34.7  \n",
       "3       18.7  394.63   2.94  33.4  \n",
       "4       18.7  396.90   5.33  36.2  \n",
       "..       ...     ...    ...   ...  \n",
       "501     21.0  391.99   9.67  22.4  \n",
       "502     21.0  396.90   9.08  20.6  \n",
       "503     21.0  396.90   5.64  23.9  \n",
       "504     21.0  393.45   6.48  22.0  \n",
       "505     21.0  396.90   7.88  11.9  \n",
       "\n",
       "[506 rows x 14 columns]"
      ]
     },
     "execution_count": 3,
     "metadata": {},
     "output_type": "execute_result"
    }
   ],
   "source": [
    "boston_dataset = load_boston()\n",
    "boston_df = pd.DataFrame(data=boston_dataset.data, columns=boston_dataset.feature_names)\n",
    "\n",
    "boston_df['MEDV'] = boston_dataset.target\n",
    "boston_df"
   ]
  },
  {
   "cell_type": "markdown",
   "metadata": {},
   "source": [
    "#### Description des champs\n",
    " - **CRIM**     : per capita crime rate by town\n",
    " - **ZN**       : proportion of residential land zoned for lots over 25,000 sq.ft.\n",
    " - **INDUS**    : proportion of non-retail business acres per town\n",
    " - **CHAS**     : Charles River dummy variable (= 1 if tract bounds river; 0 otherwise)\n",
    " - **NOX**      : nitric oxides concentration (parts per 10 million)\n",
    " - **RM**       : average number of rooms per dwelling\n",
    " - **AGE**      : proportion of owner-occupied units built prior to 1940\n",
    " - **DIS**      : weighted distances to five Boston employment centres\n",
    " - **RAD**      : index of accessibility to radial highways\n",
    " - **TAX**      : full-value property-tax rate per $10,000\n",
    " - **PTRATIO**  : pupil-teacher ratio by town\n",
    " - **B**        : 1000(Bk - 0.63)^2 where Bk is the proportion of blacks by town\n",
    " - **LSTAT**    : % lower status of the population. (education)\n",
    " - **MEDV**     : Median value of owner-occupied homes in $1000's"
   ]
  },
  {
   "cell_type": "markdown",
   "metadata": {
    "collapsed": false
   },
   "source": [
    "### 3) Se familiariser avec la base de données (p.ex., nombre d’observations, des classes, d’attributs, statistiques des attributs, données manquantes). Générez un histogramme de la distribution de la variable dépendante."
   ]
  },
  {
   "cell_type": "code",
   "execution_count": 4,
   "metadata": {},
   "outputs": [
    {
     "data": {
      "text/html": [
       "<div>\n",
       "<style scoped>\n",
       "    .dataframe tbody tr th:only-of-type {\n",
       "        vertical-align: middle;\n",
       "    }\n",
       "\n",
       "    .dataframe tbody tr th {\n",
       "        vertical-align: top;\n",
       "    }\n",
       "\n",
       "    .dataframe thead th {\n",
       "        text-align: right;\n",
       "    }\n",
       "</style>\n",
       "<table border=\"1\" class=\"dataframe\">\n",
       "  <thead>\n",
       "    <tr style=\"text-align: right;\">\n",
       "      <th></th>\n",
       "      <th>CRIM</th>\n",
       "      <th>ZN</th>\n",
       "      <th>INDUS</th>\n",
       "      <th>CHAS</th>\n",
       "      <th>NOX</th>\n",
       "      <th>RM</th>\n",
       "      <th>AGE</th>\n",
       "      <th>DIS</th>\n",
       "      <th>RAD</th>\n",
       "      <th>TAX</th>\n",
       "      <th>PTRATIO</th>\n",
       "      <th>B</th>\n",
       "      <th>LSTAT</th>\n",
       "      <th>MEDV</th>\n",
       "    </tr>\n",
       "  </thead>\n",
       "  <tbody>\n",
       "    <tr>\n",
       "      <th>count</th>\n",
       "      <td>506.000000</td>\n",
       "      <td>506.000000</td>\n",
       "      <td>506.000000</td>\n",
       "      <td>506.000000</td>\n",
       "      <td>506.000000</td>\n",
       "      <td>506.000000</td>\n",
       "      <td>506.000000</td>\n",
       "      <td>506.000000</td>\n",
       "      <td>506.000000</td>\n",
       "      <td>506.000000</td>\n",
       "      <td>506.000000</td>\n",
       "      <td>506.000000</td>\n",
       "      <td>506.000000</td>\n",
       "      <td>506.000000</td>\n",
       "    </tr>\n",
       "    <tr>\n",
       "      <th>mean</th>\n",
       "      <td>3.613524</td>\n",
       "      <td>11.363636</td>\n",
       "      <td>11.136779</td>\n",
       "      <td>0.069170</td>\n",
       "      <td>0.554695</td>\n",
       "      <td>6.284634</td>\n",
       "      <td>68.574901</td>\n",
       "      <td>3.795043</td>\n",
       "      <td>9.549407</td>\n",
       "      <td>408.237154</td>\n",
       "      <td>18.455534</td>\n",
       "      <td>356.674032</td>\n",
       "      <td>12.653063</td>\n",
       "      <td>22.532806</td>\n",
       "    </tr>\n",
       "    <tr>\n",
       "      <th>std</th>\n",
       "      <td>8.601545</td>\n",
       "      <td>23.322453</td>\n",
       "      <td>6.860353</td>\n",
       "      <td>0.253994</td>\n",
       "      <td>0.115878</td>\n",
       "      <td>0.702617</td>\n",
       "      <td>28.148861</td>\n",
       "      <td>2.105710</td>\n",
       "      <td>8.707259</td>\n",
       "      <td>168.537116</td>\n",
       "      <td>2.164946</td>\n",
       "      <td>91.294864</td>\n",
       "      <td>7.141062</td>\n",
       "      <td>9.197104</td>\n",
       "    </tr>\n",
       "    <tr>\n",
       "      <th>min</th>\n",
       "      <td>0.006320</td>\n",
       "      <td>0.000000</td>\n",
       "      <td>0.460000</td>\n",
       "      <td>0.000000</td>\n",
       "      <td>0.385000</td>\n",
       "      <td>3.561000</td>\n",
       "      <td>2.900000</td>\n",
       "      <td>1.129600</td>\n",
       "      <td>1.000000</td>\n",
       "      <td>187.000000</td>\n",
       "      <td>12.600000</td>\n",
       "      <td>0.320000</td>\n",
       "      <td>1.730000</td>\n",
       "      <td>5.000000</td>\n",
       "    </tr>\n",
       "    <tr>\n",
       "      <th>25%</th>\n",
       "      <td>0.082045</td>\n",
       "      <td>0.000000</td>\n",
       "      <td>5.190000</td>\n",
       "      <td>0.000000</td>\n",
       "      <td>0.449000</td>\n",
       "      <td>5.885500</td>\n",
       "      <td>45.025000</td>\n",
       "      <td>2.100175</td>\n",
       "      <td>4.000000</td>\n",
       "      <td>279.000000</td>\n",
       "      <td>17.400000</td>\n",
       "      <td>375.377500</td>\n",
       "      <td>6.950000</td>\n",
       "      <td>17.025000</td>\n",
       "    </tr>\n",
       "    <tr>\n",
       "      <th>50%</th>\n",
       "      <td>0.256510</td>\n",
       "      <td>0.000000</td>\n",
       "      <td>9.690000</td>\n",
       "      <td>0.000000</td>\n",
       "      <td>0.538000</td>\n",
       "      <td>6.208500</td>\n",
       "      <td>77.500000</td>\n",
       "      <td>3.207450</td>\n",
       "      <td>5.000000</td>\n",
       "      <td>330.000000</td>\n",
       "      <td>19.050000</td>\n",
       "      <td>391.440000</td>\n",
       "      <td>11.360000</td>\n",
       "      <td>21.200000</td>\n",
       "    </tr>\n",
       "    <tr>\n",
       "      <th>75%</th>\n",
       "      <td>3.677083</td>\n",
       "      <td>12.500000</td>\n",
       "      <td>18.100000</td>\n",
       "      <td>0.000000</td>\n",
       "      <td>0.624000</td>\n",
       "      <td>6.623500</td>\n",
       "      <td>94.075000</td>\n",
       "      <td>5.188425</td>\n",
       "      <td>24.000000</td>\n",
       "      <td>666.000000</td>\n",
       "      <td>20.200000</td>\n",
       "      <td>396.225000</td>\n",
       "      <td>16.955000</td>\n",
       "      <td>25.000000</td>\n",
       "    </tr>\n",
       "    <tr>\n",
       "      <th>max</th>\n",
       "      <td>88.976200</td>\n",
       "      <td>100.000000</td>\n",
       "      <td>27.740000</td>\n",
       "      <td>1.000000</td>\n",
       "      <td>0.871000</td>\n",
       "      <td>8.780000</td>\n",
       "      <td>100.000000</td>\n",
       "      <td>12.126500</td>\n",
       "      <td>24.000000</td>\n",
       "      <td>711.000000</td>\n",
       "      <td>22.000000</td>\n",
       "      <td>396.900000</td>\n",
       "      <td>37.970000</td>\n",
       "      <td>50.000000</td>\n",
       "    </tr>\n",
       "  </tbody>\n",
       "</table>\n",
       "</div>"
      ],
      "text/plain": [
       "             CRIM          ZN       INDUS        CHAS         NOX          RM  \\\n",
       "count  506.000000  506.000000  506.000000  506.000000  506.000000  506.000000   \n",
       "mean     3.613524   11.363636   11.136779    0.069170    0.554695    6.284634   \n",
       "std      8.601545   23.322453    6.860353    0.253994    0.115878    0.702617   \n",
       "min      0.006320    0.000000    0.460000    0.000000    0.385000    3.561000   \n",
       "25%      0.082045    0.000000    5.190000    0.000000    0.449000    5.885500   \n",
       "50%      0.256510    0.000000    9.690000    0.000000    0.538000    6.208500   \n",
       "75%      3.677083   12.500000   18.100000    0.000000    0.624000    6.623500   \n",
       "max     88.976200  100.000000   27.740000    1.000000    0.871000    8.780000   \n",
       "\n",
       "              AGE         DIS         RAD         TAX     PTRATIO           B  \\\n",
       "count  506.000000  506.000000  506.000000  506.000000  506.000000  506.000000   \n",
       "mean    68.574901    3.795043    9.549407  408.237154   18.455534  356.674032   \n",
       "std     28.148861    2.105710    8.707259  168.537116    2.164946   91.294864   \n",
       "min      2.900000    1.129600    1.000000  187.000000   12.600000    0.320000   \n",
       "25%     45.025000    2.100175    4.000000  279.000000   17.400000  375.377500   \n",
       "50%     77.500000    3.207450    5.000000  330.000000   19.050000  391.440000   \n",
       "75%     94.075000    5.188425   24.000000  666.000000   20.200000  396.225000   \n",
       "max    100.000000   12.126500   24.000000  711.000000   22.000000  396.900000   \n",
       "\n",
       "            LSTAT        MEDV  \n",
       "count  506.000000  506.000000  \n",
       "mean    12.653063   22.532806  \n",
       "std      7.141062    9.197104  \n",
       "min      1.730000    5.000000  \n",
       "25%      6.950000   17.025000  \n",
       "50%     11.360000   21.200000  \n",
       "75%     16.955000   25.000000  \n",
       "max     37.970000   50.000000  "
      ]
     },
     "execution_count": 4,
     "metadata": {},
     "output_type": "execute_result"
    }
   ],
   "source": [
    "boston_df.describe()"
   ]
  },
  {
   "cell_type": "code",
   "execution_count": 5,
   "metadata": {},
   "outputs": [
    {
     "data": {
      "text/plain": [
       "<seaborn.axisgrid.FacetGrid at 0x7f5ef0b351f0>"
      ]
     },
     "execution_count": 5,
     "metadata": {},
     "output_type": "execute_result"
    },
    {
     "data": {
      "image/png": "[encoded data removed]",
      "text/plain": [
       "<Figure size 360x360 with 1 Axes>"
      ]
     },
     "metadata": {
      "needs_background": "light"
     },
     "output_type": "display_data"
    }
   ],
   "source": [
    "sns.displot(boston_df['MEDV'], bins=30)"
   ]
  },
  {
   "cell_type": "markdown",
   "metadata": {
    "collapsed": false
   },
   "source": [
    "### 4) Visualiser des boxplots des variables MEDV, RM, LSTAT, RAD, DIS et AGE. Commentez vos observations."
   ]
  },
  {
   "cell_type": "code",
   "execution_count": 6,
   "metadata": {},
   "outputs": [
    {
     "data": {
      "image/png": "[encoded data removed]",
      "text/plain": [
       "<Figure size 1440x1080 with 6 Axes>"
      ]
     },
     "metadata": {
      "needs_background": "light"
     },
     "output_type": "display_data"
    }
   ],
   "source": [
    "fig, ax = plt.subplots(nrows=2, ncols=3, figsize=(20, 15))\n",
    "variables = ['MEDV', 'RM', 'LSTAT', 'RAD', 'DIS', 'AGE']\n",
    "currentBox = 0\n",
    "\n",
    "for i in range(2):\n",
    "    for j in range(3):\n",
    "        ax[i][j].set_title(variables[currentBox])\n",
    "        sns.boxplot(data=boston_df[variables[currentBox]], ax=ax[i][j], width=0.4)\n",
    "        currentBox += 1\n",
    "\n",
    "plt.tight_layout()\n",
    "plt.show()"
   ]
  },
  {
   "cell_type": "markdown",
   "metadata": {},
   "source": [
    "- **MEDV** :\n",
    "  Il y a beaucoup de valeurs aberrantes en dessus de 37, il s'agit probablement des riches qui ont des maisons qui coûtent très chères mais qui sont peu nombreux.\n",
    "\n",
    "- **RM**\n",
    "  La majorité des logements ont un nombre de pièce autour de 6 car la majorité des gens ont des maisons \"classiques\" Les outliers vers le haut sont probablement les riches avec des manoirs et les outliers du bas sont probablement les très pauvres.\n",
    "\n",
    "- **LSTAT** :\n",
    "  La majorité des quartiers sont mal éduqué à 20%. Les outliers du haut sont probablement des quartiers plus riches, avec une plus grande proportion de gens éduqué. Il est peut-être intéressant de corréler cette variable avec `PTRATIO`, car il s'agit du pourcentage d'enseignant pour les enfants.\n",
    "\n",
    "- **RAD** :\n",
    "  Il y a un gros creux de données entre 5 et ~24 et les données sont des entiers.\n",
    "\n",
    "- **DIS** :\n",
    "  Il y a une répartition unimodale étalée à droite pour la distance à un centre d'employement.\n",
    "\n",
    "- **AGE** :\n",
    "  Dès que les gens achètent des maisons avant 1940, ils ont tendance à habiter eux-même dedans plutôt que de faire de la location."
   ]
  },
  {
   "cell_type": "markdown",
   "metadata": {
    "collapsed": false
   },
   "source": [
    "### 5) Créez des modèles en utilisant l’algorithme de régression linéaire simple vue en cours pour estimer la valeur MEDV à partir des variables RM, RAD et LSTAT, chaque fois utilisant seulement une des variables. Programmez les fonctions pour faire une validation hold-out (e.g., 80% train + 20% test x 100 fois) et pour calculer le coefficient de détermination afin d’évaluer la performance moyenne du modèle. Commentez vos résultats."
   ]
  },
  {
   "cell_type": "code",
   "execution_count": 7,
   "metadata": {
    "collapsed": false,
    "pycharm": {
     "name": "#%%\n"
    }
   },
   "outputs": [],
   "source": [
    "import numpy as np\n",
    "from random import randrange\n",
    "\n",
    "def compute_MSE(b, m, data):\n",
    "\ttotalError = 0   # Mean squared error formula\n",
    "\t\n",
    "\tfor i in range (0, len(data)):\n",
    "\t\tx = data[i, 0] # variable indépendante\n",
    "\t\ty = data[i, 1] # variable dépendante\n",
    "\t\ttotalError += (y-(m*x + b)) ** 2 # somme des différences au carré\n",
    "\treturn totalError/ float(len(data)) # on divise par N\n",
    "\n",
    "def linear_determination_coeff(b, m, data):\n",
    "\tnominator = 0\n",
    "\tdenominator = 0\n",
    "\n",
    "\tdependant_var = [y[1] for y in data]\n",
    "\ty_mean = sum(dependant_var) / len(dependant_var)\n",
    "\t\n",
    "\tfor i in range (0, len(data)):\n",
    "\t\tx = data[i, 0] # variable indépendante\n",
    "\t\ty = data[i, 1] # variable dépendante\n",
    "\n",
    "\t\tnominator += (y-(m*x + b)) ** 2 # somme des différences au carré\n",
    "\t\tdenominator += (y - y_mean) ** 2\n",
    "\treturn 1 - nominator / denominator\n",
    "\n",
    "def step_gradient(b_current, m_current, data, learning_rate):\n",
    "\tb_gradient = 0\n",
    "\tm_gradient = 0\n",
    "\tN = float(len(data))\n",
    "\n",
    "\tfor i in range(0, len(data)):\n",
    "\t\tx = data[i, 0] # variable indépendante\n",
    "\t\ty = data[i, 1] # variable dépendante\n",
    "\t\tb_gradient += -(1/N) * (y - (m_current * x + b_current))\n",
    "\t\tm_gradient += -(1/N) * x * (y - (m_current * x + b_current))\n",
    "\tnew_b = b_current - (learning_rate * b_gradient)\n",
    "\tnew_m = m_current - (learning_rate * m_gradient) \n",
    "\treturn [new_b, new_m]\n",
    "\n",
    "def gradient_descent(data, starting_b, starting_m, learning_rate, num_epochs):\n",
    "\tb = starting_b\n",
    "\tm = starting_m\n",
    "\tfor i in range(num_epochs):\n",
    "\t\tb, m = step_gradient(b, m, np.array(data), learning_rate)\n",
    "\t\t#print(\"After {0} epochs b = {1}, m = {2}, error = {3}\".format(i + 1, b, m, compute_MSE(b, m, data)))\n",
    "\treturn [b, m]\n",
    "\n",
    "# Split a dataset into a train and test set\n",
    "def train_test_split(dataset, split=0.60):\n",
    "\ttrain = list()\n",
    "\ttrain_size = split * len(dataset)\n",
    "\tdataset_copy = list(dataset)\n",
    "\twhile len(train) < train_size:\n",
    "\t\tindex = randrange(len(dataset_copy))\n",
    "\t\ttrain.append(dataset_copy.pop(index))\n",
    "\treturn train, dataset_copy\n"
   ]
  },
  {
   "cell_type": "code",
   "execution_count": 10,
   "metadata": {},
   "outputs": [
    {
     "name": "stdout",
     "output_type": "stream",
     "text": [
      "\n",
      "[RM] Starting gradient descent with 2000 epochs and learning rate = 0.047\n",
      "\titeration 1/5, b = [-24.82988875], m = [7.57687343], MSE = [48.97117884], R2 = [0.3506781]\n",
      "\titeration 2/5, b = [-23.52917877], m = [7.37938715], MSE = [28.96363274], R2 = [0.49287715]\n",
      "\titeration 3/5, b = [-22.79482751], m = [7.22480997], MSE = [37.71048404], R2 = [0.51306362]\n",
      "\titeration 4/5, b = [-21.34287093], m = [7.01073777], MSE = [48.68302103], R2 = [0.51789576]\n",
      "\titeration 5/5, b = [-23.69234359], m = [7.37734814], MSE = [50.75904523], R2 = [0.42024559]\n",
      "\n",
      "[RAD] Starting gradient descent with 1000 epochs and learning rate = 0.01\n",
      "\titeration 1/5, b = [26.06208026], m = [-0.38593401], MSE = [84.41639609], R2 = [0.11434145]\n",
      "\titeration 2/5, b = [26.1786474], m = [-0.40359833], MSE = [80.81099941], R2 = [0.06620628]\n",
      "\titeration 3/5, b = [26.03261903], m = [-0.40923683], MSE = [101.49254283], R2 = [0.05452069]\n",
      "\titeration 4/5, b = [26.43383704], m = [-0.368102], MSE = [51.20273574], R2 = [0.16756233]\n",
      "\titeration 5/5, b = [25.99070832], m = [-0.36029241], MSE = [63.34766874], R2 = [0.21880073]\n",
      "\n",
      "[LSTAT] Starting gradient descent with 3000 epochs and learning rate = 0.008\n",
      "\titeration 1/5, b = [34.51631947], m = [-0.94702877], MSE = [38.31640896], R2 = [0.52953993]\n",
      "\titeration 2/5, b = [34.73323285], m = [-0.96277085], MSE = [39.80317668], R2 = [0.48012376]\n",
      "\titeration 3/5, b = [34.33509604], m = [-0.95356754], MSE = [49.46494386], R2 = [0.49906619]\n",
      "\titeration 4/5, b = [34.76312059], m = [-0.94586358], MSE = [29.03555252], R2 = [0.54717633]\n",
      "\titeration 5/5, b = [35.63167793], m = [-1.02248944], MSE = [35.54565657], R2 = [0.38841051]\n"
     ]
    }
   ],
   "source": [
    "# Hyper-parameters\n",
    "learning_rate = {'RM': 0.047, 'RAD': 0.01, 'LSTAT' : 0.008}\n",
    "num_epochs = {'RM': 2000, 'RAD': 1000, 'LSTAT' : 3000}\n",
    "num_iterations = 5\n",
    "independant_vars = ['RM', 'RAD', 'LSTAT']\n",
    "results = pd.DataFrame(columns=['independant var', 'b', 'm', 'MSE', 'R2'])\n",
    "\n",
    "# Scale data\n",
    "''' TODO\n",
    "from sklearn.preprocessing import scale\n",
    "data = boston_df[independant_vars]\n",
    "scaled_data = scale(data)\n",
    "print(scaled_data[0, 0] * data.iloc[0, 0].std() + data.iloc[0, 0].mean()) #inverse transform\n",
    "print(data.iloc[0, 0])\n",
    "'''\n",
    "\n",
    "for col_name in independant_vars:\n",
    "\tprint(f\"\\n[{col_name}] Starting gradient descent with {num_epochs[col_name]} epochs and learning rate = {learning_rate[col_name]}\")\n",
    "\t\n",
    "\t# Select data\n",
    "\tdata = boston_df[[col_name, 'MEDV']].values\n",
    "\n",
    "\tfor i in range(num_iterations):\n",
    "\t\t# Split the dataset\n",
    "\t\ttrain_set, test_set = train_test_split(data, 0.80)\n",
    "\t\ttrain_set = np.array(train_set)\n",
    "\t\ttest_set = np.array(test_set)\n",
    "\n",
    "\t\t# Init b and m\n",
    "\t\tb = np.random.rand(1)  # intercept\n",
    "\t\tm = np.random.rand(1)  # pente\n",
    "\n",
    "\t\t# Gradient descent\n",
    "\t\t[b, m] = gradient_descent(train_set, b, m, learning_rate[col_name], num_epochs[col_name])\n",
    "\n",
    "\t\t# Compute and store results\n",
    "\t\tmse = compute_MSE(b, m, test_set)\n",
    "\t\tr2 = linear_determination_coeff(b, m, test_set)\n",
    "\t\tprint(f\"\\titeration {i + 1}/{num_iterations}, b = {b}, m = {m}, MSE = {mse}, R2 = {r2}\")\n",
    "\t\tresults.loc[len(results)] = [col_name, b, m, mse, r2]\n"
   ]
  },
  {
   "cell_type": "code",
   "execution_count": 11,
   "metadata": {},
   "outputs": [
    {
     "data": {
      "text/html": [
       "<div>\n",
       "<style scoped>\n",
       "    .dataframe tbody tr th:only-of-type {\n",
       "        vertical-align: middle;\n",
       "    }\n",
       "\n",
       "    .dataframe tbody tr th {\n",
       "        vertical-align: top;\n",
       "    }\n",
       "\n",
       "    .dataframe thead th {\n",
       "        text-align: right;\n",
       "    }\n",
       "</style>\n",
       "<table border=\"1\" class=\"dataframe\">\n",
       "  <thead>\n",
       "    <tr style=\"text-align: right;\">\n",
       "      <th></th>\n",
       "      <th>independant var</th>\n",
       "      <th>b</th>\n",
       "      <th>m</th>\n",
       "      <th>MSE</th>\n",
       "      <th>R2</th>\n",
       "    </tr>\n",
       "  </thead>\n",
       "  <tbody>\n",
       "    <tr>\n",
       "      <th>0</th>\n",
       "      <td>LSTAT</td>\n",
       "      <td>[34.76312058789903]</td>\n",
       "      <td>[-0.9458635799119794]</td>\n",
       "      <td>[29.035552516333645]</td>\n",
       "      <td>[0.5471763323249247]</td>\n",
       "    </tr>\n",
       "    <tr>\n",
       "      <th>1</th>\n",
       "      <td>RM</td>\n",
       "      <td>[-21.34287092978202]</td>\n",
       "      <td>[7.010737767806524]</td>\n",
       "      <td>[48.68302102865973]</td>\n",
       "      <td>[0.5178957628870635]</td>\n",
       "    </tr>\n",
       "    <tr>\n",
       "      <th>2</th>\n",
       "      <td>RAD</td>\n",
       "      <td>[25.9907083189437]</td>\n",
       "      <td>[-0.360292407826693]</td>\n",
       "      <td>[63.347668739269]</td>\n",
       "      <td>[0.21880072816887064]</td>\n",
       "    </tr>\n",
       "  </tbody>\n",
       "</table>\n",
       "</div>"
      ],
      "text/plain": [
       "  independant var                     b                      m  \\\n",
       "0           LSTAT   [34.76312058789903]  [-0.9458635799119794]   \n",
       "1              RM  [-21.34287092978202]    [7.010737767806524]   \n",
       "2             RAD    [25.9907083189437]   [-0.360292407826693]   \n",
       "\n",
       "                    MSE                     R2  \n",
       "0  [29.035552516333645]   [0.5471763323249247]  \n",
       "1   [48.68302102865973]   [0.5178957628870635]  \n",
       "2     [63.347668739269]  [0.21880072816887064]  "
      ]
     },
     "execution_count": 11,
     "metadata": {},
     "output_type": "execute_result"
    }
   ],
   "source": [
    "# Select best model based on linear determination coefficient\n",
    "best_models = results.sort_values(by=['R2'], kind='quicksort', ascending=False)\n",
    "\n",
    "# Only keep the best model for each independant var\n",
    "best_models.drop_duplicates(subset='independant var', keep='first', inplace=True, ignore_index=True)\n",
    "\n",
    "best_models"
   ]
  },
  {
   "cell_type": "markdown",
   "metadata": {
    "collapsed": false
   },
   "source": [
    "### 6) Explorez les hyper-paramètres : learning_rate et nombre d’epochs d’entraînement. Calculez la performance moyenne (c.a.d., la moyenne de x100 fois le coefficient de détermination calculé sur le test set) du meilleur modèle trouvé par validation hold-out. Indiquez la valeur des hyper-paramètres qui donnent les meilleurs résultats et la meilleure performance trouvée. Générez un scatter-plot affichant les données (variable indépendante, variable dépendante) et la ligne droite trouvée par régression linéaire. (Note : la variable dépendante est MEDV)."
   ]
  },
  {
   "cell_type": "code",
   "execution_count": 12,
   "metadata": {
    "collapsed": false,
    "pycharm": {
     "name": "#%%\n"
    }
   },
   "outputs": [
    {
     "data": {
      "image/png": "[encoded data removed]",
      "text/plain": [
       "<Figure size 720x288 with 3 Axes>"
      ]
     },
     "metadata": {
      "needs_background": "light"
     },
     "output_type": "display_data"
    }
   ],
   "source": [
    "from matplotlib import pyplot as plt\n",
    "\n",
    "fig, ax = plt.subplots(nrows=1, ncols=3, figsize=(10, 4))\n",
    "\n",
    "for i in range(len(independant_vars)):\n",
    "\tcol_name = independant_vars[i]\n",
    "\n",
    "\tbest_model = best_models.loc[best_models['independant var'] == col_name]\n",
    "\tb = best_model['b'].values[0]\n",
    "\tm = best_model['m'].values[0]\n",
    "\n",
    "\tax[i].set_title(f\"Régression linéaire '{col_name}'\")\n",
    "\tax[i].set_xlabel(col_name)\n",
    "\tax[i].set_ylabel('MEDV')\n",
    "\n",
    "\tax[i].scatter(boston_df[col_name], boston_df['MEDV'])\n",
    "\n",
    "\t# Draw prediction line\n",
    "\tx = np.arange(boston_df[col_name].min(), boston_df[col_name].max(), 0.5)\n",
    "\tax[i].plot(x, m*x + b, 'r')\n",
    "\n",
    "plt.tight_layout()\n",
    "plt.show()"
   ]
  },
  {
   "cell_type": "markdown",
   "metadata": {},
   "source": [
    "Pour les variables RM et LSTAT, la régression linéaire a une performance acceptable.  \n",
    "Pour la variable RAD, une prédiction par régression linéraire n'est pas très pertinente au vu de la distribution des données.  \n",
    "C'est d'ailleur pour cela que l'on a un mauvais R2 pour la variable RAD.  \n",
    "  \n",
    "Pour prédire au mieux la valeur de MEDV, nous avons utilisé une régression linéaire sur LSTAT avec 3000 epochs et un learning rate de 0.008."
   ]
  },
  {
   "cell_type": "markdown",
   "metadata": {
    "collapsed": false
   },
   "source": [
    "# 2. Régression linéaire multiple"
   ]
  },
  {
   "cell_type": "markdown",
   "metadata": {
    "collapsed": false
   },
   "source": [
    "### 1) Utilisez la bibliothèque sklearn pour entraîner un modèle de régression linéaire multiple qui exploite plusieurs variables indépendantes (p.ex. RM et LSTAT) de la base de données « Boston Housing dataset »."
   ]
  },
  {
   "cell_type": "code",
   "execution_count": 32,
   "metadata": {
    "collapsed": false,
    "pycharm": {
     "name": "#%%\n"
    }
   },
   "outputs": [
    {
     "name": "stdout",
     "output_type": "stream",
     "text": [
      "\n",
      "Starting linear regression with dependant vars: ['RM', 'LSTAT']\n",
      "\n",
      "Starting linear regression with dependant vars: ['ZN', 'TAX']\n",
      "\n",
      "Starting linear regression with dependant vars: ['ZN', 'LSTAT', 'RM', 'TAX']\n",
      "\n",
      "Starting linear regression with dependant vars: ['RAD', 'DIS']\n"
     ]
    },
    {
     "data": {
      "text/html": [
       "<div>\n",
       "<style scoped>\n",
       "    .dataframe tbody tr th:only-of-type {\n",
       "        vertical-align: middle;\n",
       "    }\n",
       "\n",
       "    .dataframe tbody tr th {\n",
       "        vertical-align: top;\n",
       "    }\n",
       "\n",
       "    .dataframe thead th {\n",
       "        text-align: right;\n",
       "    }\n",
       "</style>\n",
       "<table border=\"1\" class=\"dataframe\">\n",
       "  <thead>\n",
       "    <tr style=\"text-align: right;\">\n",
       "      <th></th>\n",
       "      <th>independant vars</th>\n",
       "      <th>R2</th>\n",
       "      <th>actual</th>\n",
       "      <th>predicted</th>\n",
       "    </tr>\n",
       "  </thead>\n",
       "  <tbody>\n",
       "    <tr>\n",
       "      <th>0</th>\n",
       "      <td>[RM, LSTAT]</td>\n",
       "      <td>None</td>\n",
       "      <td>329    22.6\n",
       "371    50.0\n",
       "219    23.0\n",
       "403     8....</td>\n",
       "      <td>[26.285877729211666, 24.253778863516924, 24.42...</td>\n",
       "    </tr>\n",
       "    <tr>\n",
       "      <th>1</th>\n",
       "      <td>[ZN, TAX]</td>\n",
       "      <td>None</td>\n",
       "      <td>329    22.6\n",
       "371    50.0\n",
       "219    23.0\n",
       "403     8....</td>\n",
       "      <td>[20.74423334868918, 15.362093030191186, 24.256...</td>\n",
       "    </tr>\n",
       "    <tr>\n",
       "      <th>2</th>\n",
       "      <td>[ZN, LSTAT, RM, TAX]</td>\n",
       "      <td>None</td>\n",
       "      <td>329    22.6\n",
       "371    50.0\n",
       "219    23.0\n",
       "403     8....</td>\n",
       "      <td>[25.078451369693948, 21.282244930823907, 25.00...</td>\n",
       "    </tr>\n",
       "    <tr>\n",
       "      <th>3</th>\n",
       "      <td>[RAD, DIS]</td>\n",
       "      <td>None</td>\n",
       "      <td>329    22.6\n",
       "371    50.0\n",
       "219    23.0\n",
       "403     8....</td>\n",
       "      <td>[25.427733484569004, 15.583696574662083, 24.20...</td>\n",
       "    </tr>\n",
       "  </tbody>\n",
       "</table>\n",
       "</div>"
      ],
      "text/plain": [
       "       independant vars    R2  \\\n",
       "0           [RM, LSTAT]  None   \n",
       "1             [ZN, TAX]  None   \n",
       "2  [ZN, LSTAT, RM, TAX]  None   \n",
       "3            [RAD, DIS]  None   \n",
       "\n",
       "                                              actual  \\\n",
       "0  329    22.6\n",
       "371    50.0\n",
       "219    23.0\n",
       "403     8....   \n",
       "1  329    22.6\n",
       "371    50.0\n",
       "219    23.0\n",
       "403     8....   \n",
       "2  329    22.6\n",
       "371    50.0\n",
       "219    23.0\n",
       "403     8....   \n",
       "3  329    22.6\n",
       "371    50.0\n",
       "219    23.0\n",
       "403     8....   \n",
       "\n",
       "                                           predicted  \n",
       "0  [26.285877729211666, 24.253778863516924, 24.42...  \n",
       "1  [20.74423334868918, 15.362093030191186, 24.256...  \n",
       "2  [25.078451369693948, 21.282244930823907, 25.00...  \n",
       "3  [25.427733484569004, 15.583696574662083, 24.20...  "
      ]
     },
     "execution_count": 32,
     "metadata": {},
     "output_type": "execute_result"
    }
   ],
   "source": [
    "from sklearn.linear_model import LinearRegression\n",
    "from sklearn.model_selection import train_test_split\n",
    "\n",
    "independant_vars = [['RM', 'LSTAT'], ['ZN', 'TAX'], ['ZN', 'LSTAT', 'RM', 'TAX'], ['RAD', 'DIS']]\n",
    "results = pd.DataFrame(columns=['independant vars', 'R2', 'actual', 'predicted'])\n",
    "\n",
    "for vars in independant_vars:\n",
    "\tprint(f\"\\nStarting linear regression with dependant vars: {vars}\")\n",
    "\tX = boston_df.drop('MEDV', axis=1)[vars]\n",
    "\tY = boston_df['MEDV']\n",
    "\n",
    "\tX_train, X_test, Y_train, Y_test = train_test_split(X, Y, test_size = 0.2, random_state = 0)\n",
    "\n",
    "\tlm = LinearRegression()\n",
    "\tlm.fit(X_train, Y_train)\n",
    "\n",
    "\tY_pred = lm.predict(X_test)\n",
    "\n",
    "\tresults.loc[len(results)] = [vars, None, Y_test, Y_pred]\n",
    "\n",
    "results"
   ]
  },
  {
   "cell_type": "markdown",
   "metadata": {
    "collapsed": false
   },
   "source": [
    "### 2) Utilisez la bibliothèque sklearn pour préparer les données pour faire une validation hold-out ainsi que pour le calcul du coefficient de détermination (r2_score) des modèles."
   ]
  },
  {
   "cell_type": "code",
   "execution_count": 43,
   "metadata": {
    "collapsed": false,
    "pycharm": {
     "name": "#%%\n"
    }
   },
   "outputs": [],
   "source": [
    "from sklearn.metrics import r2_score\n",
    "\n",
    "for _, row in results.iterrows():\n",
    "\trow['R2'] = r2_score(row['actual'], row['predicted'])\n",
    "\n",
    "results.sort_values(by=['R2'], kind='quicksort', ascending=False, ignore_index=True, inplace=True)"
   ]
  },
  {
   "cell_type": "markdown",
   "metadata": {
    "collapsed": false
   },
   "source": [
    "### 3) Présentez les résultats de vos expériences (points 1 et 2) avec la base de données proposée et commentez ceux-ci."
   ]
  },
  {
   "cell_type": "code",
   "execution_count": 44,
   "metadata": {
    "collapsed": false,
    "pycharm": {
     "name": "#%%\n"
    }
   },
   "outputs": [
    {
     "data": {
      "text/html": [
       "<div>\n",
       "<style scoped>\n",
       "    .dataframe tbody tr th:only-of-type {\n",
       "        vertical-align: middle;\n",
       "    }\n",
       "\n",
       "    .dataframe tbody tr th {\n",
       "        vertical-align: top;\n",
       "    }\n",
       "\n",
       "    .dataframe thead th {\n",
       "        text-align: right;\n",
       "    }\n",
       "</style>\n",
       "<table border=\"1\" class=\"dataframe\">\n",
       "  <thead>\n",
       "    <tr style=\"text-align: right;\">\n",
       "      <th></th>\n",
       "      <th>independant vars</th>\n",
       "      <th>R2</th>\n",
       "    </tr>\n",
       "  </thead>\n",
       "  <tbody>\n",
       "    <tr>\n",
       "      <th>0</th>\n",
       "      <td>[RM, LSTAT]</td>\n",
       "      <td>0.540908</td>\n",
       "    </tr>\n",
       "    <tr>\n",
       "      <th>1</th>\n",
       "      <td>[ZN, LSTAT, RM, TAX]</td>\n",
       "      <td>0.495639</td>\n",
       "    </tr>\n",
       "    <tr>\n",
       "      <th>2</th>\n",
       "      <td>[ZN, TAX]</td>\n",
       "      <td>0.023317</td>\n",
       "    </tr>\n",
       "    <tr>\n",
       "      <th>3</th>\n",
       "      <td>[RAD, DIS]</td>\n",
       "      <td>-0.021887</td>\n",
       "    </tr>\n",
       "  </tbody>\n",
       "</table>\n",
       "</div>"
      ],
      "text/plain": [
       "       independant vars        R2\n",
       "0           [RM, LSTAT]  0.540908\n",
       "1  [ZN, LSTAT, RM, TAX]  0.495639\n",
       "2             [ZN, TAX]  0.023317\n",
       "3            [RAD, DIS] -0.021887"
      ]
     },
     "execution_count": 44,
     "metadata": {},
     "output_type": "execute_result"
    }
   ],
   "source": [
    "results.drop(['actual', 'predicted'], axis=1)"
   ]
  },
  {
   "cell_type": "markdown",
   "metadata": {},
   "source": [
    "Ce tableau montre les résultats de nos modèles par régression linéaire multiple, ils sont trié par score R2 décroissant.  \n",
    "  \n",
    "Le modèle avec le meilleur score est celui avec les variables indépendantes les plus pertinentes pour définir le prix des maisons (c.à.d. le niveau d'éducation et le nombre de pièces par logement).  \n",
    "  \n",
    "Juste en dessous, on a le même modèle mais utilisant 2 variables en plus on n'obtient pas un meilleur score (on remarque plus bas qu'un modèle avec uniquement ces 2 variables a un mauvais score). Plus de variable ne donne  pas nécessairement un meilleur score.  \n",
    "  \n",
    "En dernière position on a un modèle avec 2 variables qui sont peut pertinentes pour déterminer le prix des maisons (c.à.d. l'indice d'accessibilité des avenues et la distance à un centre d'employement).  \n",
    "  \n",
    "Nous en concluons qu'il faut utiliser uniquement les variables les plus pertinentes pour avoir de bonne prédictions."
   ]
  },
  {
   "cell_type": "markdown",
   "metadata": {
    "collapsed": false
   },
   "source": [
    "### 4) Générez un scatter-plot (valeur prédite, variable dépendante) et une ligne droite correspondant à l’équation valeur prédite = valeur dépendante (Note : la variable dépendante est MEDV)."
   ]
  },
  {
   "cell_type": "code",
   "execution_count": 46,
   "metadata": {},
   "outputs": [
    {
     "data": {
      "image/png": "[encoded data removed]",
      "text/plain": [
       "<Figure size 288x288 with 1 Axes>"
      ]
     },
     "metadata": {
      "needs_background": "light"
     },
     "output_type": "display_data"
    },
    {
     "data": {
      "image/png": "[encoded data removed]",
      "text/plain": [
       "<Figure size 288x288 with 1 Axes>"
      ]
     },
     "metadata": {
      "needs_background": "light"
     },
     "output_type": "display_data"
    },
    {
     "data": {
      "image/png": "[encoded data removed]",
      "text/plain": [
       "<Figure size 288x288 with 1 Axes>"
      ]
     },
     "metadata": {
      "needs_background": "light"
     },
     "output_type": "display_data"
    },
    {
     "data": {
      "image/png": "[encoded data removed]",
      "text/plain": [
       "<Figure size 288x288 with 1 Axes>"
      ]
     },
     "metadata": {
      "needs_background": "light"
     },
     "output_type": "display_data"
    }
   ],
   "source": [
    "for _, row in results.iterrows():\n",
    "\t# Make plot squared\n",
    "\tplt.figure(figsize=(4, 4))\n",
    "\tplt.xlim(0, 55)\n",
    "\tplt.ylim(0, 55)\n",
    "\n",
    "\t# Draw perfect prediction line\n",
    "\tx = np.arange(0, 55, 0.5)\n",
    "\tplt.plot(x, x, 'r')\n",
    "\n",
    "\t# Scatter actual vs predicted\n",
    "\tplt.scatter(row['actual'], row['predicted'])\n",
    "\tplt.xlabel(\"Actual MEDV\")\n",
    "\tplt.ylabel(\"Predicted MEDV\")\n",
    "\tplt.title(f\"Performance evaluation for {row['independant vars']}\")\n",
    "\tplt.show()"
   ]
  }
 ],
 "metadata": {
  "interpreter": {
   "hash": "1a8e786f5beab16f9b5c416a6e9d8f1542a6f840902e4a11674288d03b3ff226"
  },
  "kernelspec": {
   "display_name": "Python 3.9.7 ('isd')",
   "language": "python",
   "name": "python3"
  },
  "language_info": {
   "codemirror_mode": {
    "name": "ipython",
    "version": 3
   },
   "file_extension": ".py",
   "mimetype": "text/x-python",
   "name": "python",
   "nbconvert_exporter": "python",
   "pygments_lexer": "ipython3",
   "version": "3.9.7"
  },
  "orig_nbformat": 4
 },
 "nbformat": 4,
 "nbformat_minor": 2
}
